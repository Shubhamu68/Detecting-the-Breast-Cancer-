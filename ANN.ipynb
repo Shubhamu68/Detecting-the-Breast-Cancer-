{
  "nbformat": 4,
  "nbformat_minor": 0,
  "metadata": {
    "colab": {
      "name": "ANN",
      "provenance": [],
      "collapsed_sections": []
    },
    "kernelspec": {
      "name": "python3",
      "display_name": "Python 3"
    }
  },
  "cells": [
    {
      "cell_type": "code",
      "metadata": {
        "id": "zZ2butnp6mzv",
        "colab_type": "code",
        "colab": {
          "base_uri": "https://localhost:8080/",
          "height": 138
        },
        "outputId": "6db0555c-3f2a-4de8-ed22-4c3275bcb37b"
      },
      "source": [
        "import pandas as pd\n",
        "import numpy as np\n",
        "import seaborn as sn\n",
        "from sklearn.model_selection import train_test_split\n",
        "from sklearn.preprocessing import StandardScaler\n",
        "from imblearn.pipeline import make_pipeline\n",
        "from imblearn.over_sampling import SMOTE\n",
        "from imblearn.under_sampling import NearMiss\n",
        "import keras\n",
        "from keras.models import Sequential\n",
        "from keras.layers import Dense\n",
        "from keras.layers import LeakyReLU,PReLU,ELU\n",
        "from keras.layers import Dropout\n",
        "import matplotlib.pyplot as plt\n"
      ],
      "execution_count": 2,
      "outputs": [
        {
          "output_type": "stream",
          "text": [
            "/usr/local/lib/python3.6/dist-packages/statsmodels/tools/_testing.py:19: FutureWarning: pandas.util.testing is deprecated. Use the functions in the public API at pandas.testing instead.\n",
            "  import pandas.util.testing as tm\n",
            "/usr/local/lib/python3.6/dist-packages/sklearn/externals/six.py:31: FutureWarning: The module is deprecated in version 0.21 and will be removed in version 0.23 since we've dropped support for Python 2.7. Please rely on the official version of six (https://pypi.org/project/six/).\n",
            "  \"(https://pypi.org/project/six/).\", FutureWarning)\n",
            "/usr/local/lib/python3.6/dist-packages/sklearn/utils/deprecation.py:144: FutureWarning: The sklearn.neighbors.base module is  deprecated in version 0.22 and will be removed in version 0.24. The corresponding classes / functions should instead be imported from sklearn.neighbors. Anything that cannot be imported from sklearn.neighbors is now part of the private API.\n",
            "  warnings.warn(message, FutureWarning)\n"
          ],
          "name": "stderr"
        }
      ]
    },
    {
      "cell_type": "code",
      "metadata": {
        "id": "v-J_w8d57phv",
        "colab_type": "code",
        "colab": {}
      },
      "source": [
        "bre_df = pd.read_csv(\"/content/drive/My Drive/Crimes/data.csv\")"
      ],
      "execution_count": 3,
      "outputs": []
    },
    {
      "cell_type": "code",
      "metadata": {
        "id": "yYjvANxJ721m",
        "colab_type": "code",
        "colab": {
          "base_uri": "https://localhost:8080/",
          "height": 232
        },
        "outputId": "5f3562b5-bc6c-4322-c374-975aec46addd"
      },
      "source": [
        "bre_df.head(5)"
      ],
      "execution_count": 4,
      "outputs": [
        {
          "output_type": "execute_result",
          "data": {
            "text/html": [
              "<div>\n",
              "<style scoped>\n",
              "    .dataframe tbody tr th:only-of-type {\n",
              "        vertical-align: middle;\n",
              "    }\n",
              "\n",
              "    .dataframe tbody tr th {\n",
              "        vertical-align: top;\n",
              "    }\n",
              "\n",
              "    .dataframe thead th {\n",
              "        text-align: right;\n",
              "    }\n",
              "</style>\n",
              "<table border=\"1\" class=\"dataframe\">\n",
              "  <thead>\n",
              "    <tr style=\"text-align: right;\">\n",
              "      <th></th>\n",
              "      <th>id</th>\n",
              "      <th>diagnosis</th>\n",
              "      <th>radius_mean</th>\n",
              "      <th>texture_mean</th>\n",
              "      <th>perimeter_mean</th>\n",
              "      <th>area_mean</th>\n",
              "      <th>smoothness_mean</th>\n",
              "      <th>compactness_mean</th>\n",
              "      <th>concavity_mean</th>\n",
              "      <th>concave points_mean</th>\n",
              "      <th>symmetry_mean</th>\n",
              "      <th>fractal_dimension_mean</th>\n",
              "      <th>radius_se</th>\n",
              "      <th>texture_se</th>\n",
              "      <th>perimeter_se</th>\n",
              "      <th>area_se</th>\n",
              "      <th>smoothness_se</th>\n",
              "      <th>compactness_se</th>\n",
              "      <th>concavity_se</th>\n",
              "      <th>concave points_se</th>\n",
              "      <th>symmetry_se</th>\n",
              "      <th>fractal_dimension_se</th>\n",
              "      <th>radius_worst</th>\n",
              "      <th>texture_worst</th>\n",
              "      <th>perimeter_worst</th>\n",
              "      <th>area_worst</th>\n",
              "      <th>smoothness_worst</th>\n",
              "      <th>compactness_worst</th>\n",
              "      <th>concavity_worst</th>\n",
              "      <th>concave points_worst</th>\n",
              "      <th>symmetry_worst</th>\n",
              "      <th>fractal_dimension_worst</th>\n",
              "      <th>Unnamed: 32</th>\n",
              "    </tr>\n",
              "  </thead>\n",
              "  <tbody>\n",
              "    <tr>\n",
              "      <th>0</th>\n",
              "      <td>842302</td>\n",
              "      <td>M</td>\n",
              "      <td>17.99</td>\n",
              "      <td>10.38</td>\n",
              "      <td>122.80</td>\n",
              "      <td>1001.0</td>\n",
              "      <td>0.11840</td>\n",
              "      <td>0.27760</td>\n",
              "      <td>0.3001</td>\n",
              "      <td>0.14710</td>\n",
              "      <td>0.2419</td>\n",
              "      <td>0.07871</td>\n",
              "      <td>1.0950</td>\n",
              "      <td>0.9053</td>\n",
              "      <td>8.589</td>\n",
              "      <td>153.40</td>\n",
              "      <td>0.006399</td>\n",
              "      <td>0.04904</td>\n",
              "      <td>0.05373</td>\n",
              "      <td>0.01587</td>\n",
              "      <td>0.03003</td>\n",
              "      <td>0.006193</td>\n",
              "      <td>25.38</td>\n",
              "      <td>17.33</td>\n",
              "      <td>184.60</td>\n",
              "      <td>2019.0</td>\n",
              "      <td>0.1622</td>\n",
              "      <td>0.6656</td>\n",
              "      <td>0.7119</td>\n",
              "      <td>0.2654</td>\n",
              "      <td>0.4601</td>\n",
              "      <td>0.11890</td>\n",
              "      <td>NaN</td>\n",
              "    </tr>\n",
              "    <tr>\n",
              "      <th>1</th>\n",
              "      <td>842517</td>\n",
              "      <td>M</td>\n",
              "      <td>20.57</td>\n",
              "      <td>17.77</td>\n",
              "      <td>132.90</td>\n",
              "      <td>1326.0</td>\n",
              "      <td>0.08474</td>\n",
              "      <td>0.07864</td>\n",
              "      <td>0.0869</td>\n",
              "      <td>0.07017</td>\n",
              "      <td>0.1812</td>\n",
              "      <td>0.05667</td>\n",
              "      <td>0.5435</td>\n",
              "      <td>0.7339</td>\n",
              "      <td>3.398</td>\n",
              "      <td>74.08</td>\n",
              "      <td>0.005225</td>\n",
              "      <td>0.01308</td>\n",
              "      <td>0.01860</td>\n",
              "      <td>0.01340</td>\n",
              "      <td>0.01389</td>\n",
              "      <td>0.003532</td>\n",
              "      <td>24.99</td>\n",
              "      <td>23.41</td>\n",
              "      <td>158.80</td>\n",
              "      <td>1956.0</td>\n",
              "      <td>0.1238</td>\n",
              "      <td>0.1866</td>\n",
              "      <td>0.2416</td>\n",
              "      <td>0.1860</td>\n",
              "      <td>0.2750</td>\n",
              "      <td>0.08902</td>\n",
              "      <td>NaN</td>\n",
              "    </tr>\n",
              "    <tr>\n",
              "      <th>2</th>\n",
              "      <td>84300903</td>\n",
              "      <td>M</td>\n",
              "      <td>19.69</td>\n",
              "      <td>21.25</td>\n",
              "      <td>130.00</td>\n",
              "      <td>1203.0</td>\n",
              "      <td>0.10960</td>\n",
              "      <td>0.15990</td>\n",
              "      <td>0.1974</td>\n",
              "      <td>0.12790</td>\n",
              "      <td>0.2069</td>\n",
              "      <td>0.05999</td>\n",
              "      <td>0.7456</td>\n",
              "      <td>0.7869</td>\n",
              "      <td>4.585</td>\n",
              "      <td>94.03</td>\n",
              "      <td>0.006150</td>\n",
              "      <td>0.04006</td>\n",
              "      <td>0.03832</td>\n",
              "      <td>0.02058</td>\n",
              "      <td>0.02250</td>\n",
              "      <td>0.004571</td>\n",
              "      <td>23.57</td>\n",
              "      <td>25.53</td>\n",
              "      <td>152.50</td>\n",
              "      <td>1709.0</td>\n",
              "      <td>0.1444</td>\n",
              "      <td>0.4245</td>\n",
              "      <td>0.4504</td>\n",
              "      <td>0.2430</td>\n",
              "      <td>0.3613</td>\n",
              "      <td>0.08758</td>\n",
              "      <td>NaN</td>\n",
              "    </tr>\n",
              "    <tr>\n",
              "      <th>3</th>\n",
              "      <td>84348301</td>\n",
              "      <td>M</td>\n",
              "      <td>11.42</td>\n",
              "      <td>20.38</td>\n",
              "      <td>77.58</td>\n",
              "      <td>386.1</td>\n",
              "      <td>0.14250</td>\n",
              "      <td>0.28390</td>\n",
              "      <td>0.2414</td>\n",
              "      <td>0.10520</td>\n",
              "      <td>0.2597</td>\n",
              "      <td>0.09744</td>\n",
              "      <td>0.4956</td>\n",
              "      <td>1.1560</td>\n",
              "      <td>3.445</td>\n",
              "      <td>27.23</td>\n",
              "      <td>0.009110</td>\n",
              "      <td>0.07458</td>\n",
              "      <td>0.05661</td>\n",
              "      <td>0.01867</td>\n",
              "      <td>0.05963</td>\n",
              "      <td>0.009208</td>\n",
              "      <td>14.91</td>\n",
              "      <td>26.50</td>\n",
              "      <td>98.87</td>\n",
              "      <td>567.7</td>\n",
              "      <td>0.2098</td>\n",
              "      <td>0.8663</td>\n",
              "      <td>0.6869</td>\n",
              "      <td>0.2575</td>\n",
              "      <td>0.6638</td>\n",
              "      <td>0.17300</td>\n",
              "      <td>NaN</td>\n",
              "    </tr>\n",
              "    <tr>\n",
              "      <th>4</th>\n",
              "      <td>84358402</td>\n",
              "      <td>M</td>\n",
              "      <td>20.29</td>\n",
              "      <td>14.34</td>\n",
              "      <td>135.10</td>\n",
              "      <td>1297.0</td>\n",
              "      <td>0.10030</td>\n",
              "      <td>0.13280</td>\n",
              "      <td>0.1980</td>\n",
              "      <td>0.10430</td>\n",
              "      <td>0.1809</td>\n",
              "      <td>0.05883</td>\n",
              "      <td>0.7572</td>\n",
              "      <td>0.7813</td>\n",
              "      <td>5.438</td>\n",
              "      <td>94.44</td>\n",
              "      <td>0.011490</td>\n",
              "      <td>0.02461</td>\n",
              "      <td>0.05688</td>\n",
              "      <td>0.01885</td>\n",
              "      <td>0.01756</td>\n",
              "      <td>0.005115</td>\n",
              "      <td>22.54</td>\n",
              "      <td>16.67</td>\n",
              "      <td>152.20</td>\n",
              "      <td>1575.0</td>\n",
              "      <td>0.1374</td>\n",
              "      <td>0.2050</td>\n",
              "      <td>0.4000</td>\n",
              "      <td>0.1625</td>\n",
              "      <td>0.2364</td>\n",
              "      <td>0.07678</td>\n",
              "      <td>NaN</td>\n",
              "    </tr>\n",
              "  </tbody>\n",
              "</table>\n",
              "</div>"
            ],
            "text/plain": [
              "         id diagnosis  ...  fractal_dimension_worst  Unnamed: 32\n",
              "0    842302         M  ...                  0.11890          NaN\n",
              "1    842517         M  ...                  0.08902          NaN\n",
              "2  84300903         M  ...                  0.08758          NaN\n",
              "3  84348301         M  ...                  0.17300          NaN\n",
              "4  84358402         M  ...                  0.07678          NaN\n",
              "\n",
              "[5 rows x 33 columns]"
            ]
          },
          "metadata": {
            "tags": []
          },
          "execution_count": 4
        }
      ]
    },
    {
      "cell_type": "code",
      "metadata": {
        "id": "4yFiGcf078KJ",
        "colab_type": "code",
        "colab": {
          "base_uri": "https://localhost:8080/",
          "height": 689
        },
        "outputId": "dd32946c-1c37-45ea-8132-2ccf585d1bf8"
      },
      "source": [
        "bre_df.info()"
      ],
      "execution_count": 5,
      "outputs": [
        {
          "output_type": "stream",
          "text": [
            "<class 'pandas.core.frame.DataFrame'>\n",
            "RangeIndex: 569 entries, 0 to 568\n",
            "Data columns (total 33 columns):\n",
            " #   Column                   Non-Null Count  Dtype  \n",
            "---  ------                   --------------  -----  \n",
            " 0   id                       569 non-null    int64  \n",
            " 1   diagnosis                569 non-null    object \n",
            " 2   radius_mean              569 non-null    float64\n",
            " 3   texture_mean             569 non-null    float64\n",
            " 4   perimeter_mean           569 non-null    float64\n",
            " 5   area_mean                569 non-null    float64\n",
            " 6   smoothness_mean          569 non-null    float64\n",
            " 7   compactness_mean         569 non-null    float64\n",
            " 8   concavity_mean           569 non-null    float64\n",
            " 9   concave points_mean      569 non-null    float64\n",
            " 10  symmetry_mean            569 non-null    float64\n",
            " 11  fractal_dimension_mean   569 non-null    float64\n",
            " 12  radius_se                569 non-null    float64\n",
            " 13  texture_se               569 non-null    float64\n",
            " 14  perimeter_se             569 non-null    float64\n",
            " 15  area_se                  569 non-null    float64\n",
            " 16  smoothness_se            569 non-null    float64\n",
            " 17  compactness_se           569 non-null    float64\n",
            " 18  concavity_se             569 non-null    float64\n",
            " 19  concave points_se        569 non-null    float64\n",
            " 20  symmetry_se              569 non-null    float64\n",
            " 21  fractal_dimension_se     569 non-null    float64\n",
            " 22  radius_worst             569 non-null    float64\n",
            " 23  texture_worst            569 non-null    float64\n",
            " 24  perimeter_worst          569 non-null    float64\n",
            " 25  area_worst               569 non-null    float64\n",
            " 26  smoothness_worst         569 non-null    float64\n",
            " 27  compactness_worst        569 non-null    float64\n",
            " 28  concavity_worst          569 non-null    float64\n",
            " 29  concave points_worst     569 non-null    float64\n",
            " 30  symmetry_worst           569 non-null    float64\n",
            " 31  fractal_dimension_worst  569 non-null    float64\n",
            " 32  Unnamed: 32              0 non-null      float64\n",
            "dtypes: float64(31), int64(1), object(1)\n",
            "memory usage: 146.8+ KB\n"
          ],
          "name": "stdout"
        }
      ]
    },
    {
      "cell_type": "code",
      "metadata": {
        "id": "Fqxud5GcPb6o",
        "colab_type": "code",
        "colab": {
          "base_uri": "https://localhost:8080/",
          "height": 185
        },
        "outputId": "61e95dcb-4fb4-466c-ee7e-cab6af694a86"
      },
      "source": [
        "bre_df.columns"
      ],
      "execution_count": 6,
      "outputs": [
        {
          "output_type": "execute_result",
          "data": {
            "text/plain": [
              "Index(['id', 'diagnosis', 'radius_mean', 'texture_mean', 'perimeter_mean',\n",
              "       'area_mean', 'smoothness_mean', 'compactness_mean', 'concavity_mean',\n",
              "       'concave points_mean', 'symmetry_mean', 'fractal_dimension_mean',\n",
              "       'radius_se', 'texture_se', 'perimeter_se', 'area_se', 'smoothness_se',\n",
              "       'compactness_se', 'concavity_se', 'concave points_se', 'symmetry_se',\n",
              "       'fractal_dimension_se', 'radius_worst', 'texture_worst',\n",
              "       'perimeter_worst', 'area_worst', 'smoothness_worst',\n",
              "       'compactness_worst', 'concavity_worst', 'concave points_worst',\n",
              "       'symmetry_worst', 'fractal_dimension_worst', 'Unnamed: 32'],\n",
              "      dtype='object')"
            ]
          },
          "metadata": {
            "tags": []
          },
          "execution_count": 6
        }
      ]
    },
    {
      "cell_type": "code",
      "metadata": {
        "id": "OD1eFPcF78Pv",
        "colab_type": "code",
        "colab": {}
      },
      "source": [
        "cancer_df = bre_df.copy()\n"
      ],
      "execution_count": 7,
      "outputs": []
    },
    {
      "cell_type": "code",
      "metadata": {
        "id": "F3Zxme4TGJq0",
        "colab_type": "code",
        "colab": {}
      },
      "source": [
        "cancer_df['diagnosis'] = pd.get_dummies(cancer_df['diagnosis'], drop_first = True)"
      ],
      "execution_count": 8,
      "outputs": []
    },
    {
      "cell_type": "code",
      "metadata": {
        "id": "6k9_GidlPqVc",
        "colab_type": "code",
        "colab": {
          "base_uri": "https://localhost:8080/",
          "height": 34
        },
        "outputId": "3e4ae1cf-2899-44cb-f548-19021bac1867"
      },
      "source": [
        "cancer_df['Unnamed: 32'].unique()"
      ],
      "execution_count": 9,
      "outputs": [
        {
          "output_type": "execute_result",
          "data": {
            "text/plain": [
              "array([nan])"
            ]
          },
          "metadata": {
            "tags": []
          },
          "execution_count": 9
        }
      ]
    },
    {
      "cell_type": "code",
      "metadata": {
        "id": "ZkNaH8bjGJki",
        "colab_type": "code",
        "colab": {
          "base_uri": "https://localhost:8080/",
          "height": 232
        },
        "outputId": "7bdb28a0-8f69-4510-caa5-cb1e3dc2140f"
      },
      "source": [
        "cancer_df.head(5)\n"
      ],
      "execution_count": 10,
      "outputs": [
        {
          "output_type": "execute_result",
          "data": {
            "text/html": [
              "<div>\n",
              "<style scoped>\n",
              "    .dataframe tbody tr th:only-of-type {\n",
              "        vertical-align: middle;\n",
              "    }\n",
              "\n",
              "    .dataframe tbody tr th {\n",
              "        vertical-align: top;\n",
              "    }\n",
              "\n",
              "    .dataframe thead th {\n",
              "        text-align: right;\n",
              "    }\n",
              "</style>\n",
              "<table border=\"1\" class=\"dataframe\">\n",
              "  <thead>\n",
              "    <tr style=\"text-align: right;\">\n",
              "      <th></th>\n",
              "      <th>id</th>\n",
              "      <th>diagnosis</th>\n",
              "      <th>radius_mean</th>\n",
              "      <th>texture_mean</th>\n",
              "      <th>perimeter_mean</th>\n",
              "      <th>area_mean</th>\n",
              "      <th>smoothness_mean</th>\n",
              "      <th>compactness_mean</th>\n",
              "      <th>concavity_mean</th>\n",
              "      <th>concave points_mean</th>\n",
              "      <th>symmetry_mean</th>\n",
              "      <th>fractal_dimension_mean</th>\n",
              "      <th>radius_se</th>\n",
              "      <th>texture_se</th>\n",
              "      <th>perimeter_se</th>\n",
              "      <th>area_se</th>\n",
              "      <th>smoothness_se</th>\n",
              "      <th>compactness_se</th>\n",
              "      <th>concavity_se</th>\n",
              "      <th>concave points_se</th>\n",
              "      <th>symmetry_se</th>\n",
              "      <th>fractal_dimension_se</th>\n",
              "      <th>radius_worst</th>\n",
              "      <th>texture_worst</th>\n",
              "      <th>perimeter_worst</th>\n",
              "      <th>area_worst</th>\n",
              "      <th>smoothness_worst</th>\n",
              "      <th>compactness_worst</th>\n",
              "      <th>concavity_worst</th>\n",
              "      <th>concave points_worst</th>\n",
              "      <th>symmetry_worst</th>\n",
              "      <th>fractal_dimension_worst</th>\n",
              "      <th>Unnamed: 32</th>\n",
              "    </tr>\n",
              "  </thead>\n",
              "  <tbody>\n",
              "    <tr>\n",
              "      <th>0</th>\n",
              "      <td>842302</td>\n",
              "      <td>1</td>\n",
              "      <td>17.99</td>\n",
              "      <td>10.38</td>\n",
              "      <td>122.80</td>\n",
              "      <td>1001.0</td>\n",
              "      <td>0.11840</td>\n",
              "      <td>0.27760</td>\n",
              "      <td>0.3001</td>\n",
              "      <td>0.14710</td>\n",
              "      <td>0.2419</td>\n",
              "      <td>0.07871</td>\n",
              "      <td>1.0950</td>\n",
              "      <td>0.9053</td>\n",
              "      <td>8.589</td>\n",
              "      <td>153.40</td>\n",
              "      <td>0.006399</td>\n",
              "      <td>0.04904</td>\n",
              "      <td>0.05373</td>\n",
              "      <td>0.01587</td>\n",
              "      <td>0.03003</td>\n",
              "      <td>0.006193</td>\n",
              "      <td>25.38</td>\n",
              "      <td>17.33</td>\n",
              "      <td>184.60</td>\n",
              "      <td>2019.0</td>\n",
              "      <td>0.1622</td>\n",
              "      <td>0.6656</td>\n",
              "      <td>0.7119</td>\n",
              "      <td>0.2654</td>\n",
              "      <td>0.4601</td>\n",
              "      <td>0.11890</td>\n",
              "      <td>NaN</td>\n",
              "    </tr>\n",
              "    <tr>\n",
              "      <th>1</th>\n",
              "      <td>842517</td>\n",
              "      <td>1</td>\n",
              "      <td>20.57</td>\n",
              "      <td>17.77</td>\n",
              "      <td>132.90</td>\n",
              "      <td>1326.0</td>\n",
              "      <td>0.08474</td>\n",
              "      <td>0.07864</td>\n",
              "      <td>0.0869</td>\n",
              "      <td>0.07017</td>\n",
              "      <td>0.1812</td>\n",
              "      <td>0.05667</td>\n",
              "      <td>0.5435</td>\n",
              "      <td>0.7339</td>\n",
              "      <td>3.398</td>\n",
              "      <td>74.08</td>\n",
              "      <td>0.005225</td>\n",
              "      <td>0.01308</td>\n",
              "      <td>0.01860</td>\n",
              "      <td>0.01340</td>\n",
              "      <td>0.01389</td>\n",
              "      <td>0.003532</td>\n",
              "      <td>24.99</td>\n",
              "      <td>23.41</td>\n",
              "      <td>158.80</td>\n",
              "      <td>1956.0</td>\n",
              "      <td>0.1238</td>\n",
              "      <td>0.1866</td>\n",
              "      <td>0.2416</td>\n",
              "      <td>0.1860</td>\n",
              "      <td>0.2750</td>\n",
              "      <td>0.08902</td>\n",
              "      <td>NaN</td>\n",
              "    </tr>\n",
              "    <tr>\n",
              "      <th>2</th>\n",
              "      <td>84300903</td>\n",
              "      <td>1</td>\n",
              "      <td>19.69</td>\n",
              "      <td>21.25</td>\n",
              "      <td>130.00</td>\n",
              "      <td>1203.0</td>\n",
              "      <td>0.10960</td>\n",
              "      <td>0.15990</td>\n",
              "      <td>0.1974</td>\n",
              "      <td>0.12790</td>\n",
              "      <td>0.2069</td>\n",
              "      <td>0.05999</td>\n",
              "      <td>0.7456</td>\n",
              "      <td>0.7869</td>\n",
              "      <td>4.585</td>\n",
              "      <td>94.03</td>\n",
              "      <td>0.006150</td>\n",
              "      <td>0.04006</td>\n",
              "      <td>0.03832</td>\n",
              "      <td>0.02058</td>\n",
              "      <td>0.02250</td>\n",
              "      <td>0.004571</td>\n",
              "      <td>23.57</td>\n",
              "      <td>25.53</td>\n",
              "      <td>152.50</td>\n",
              "      <td>1709.0</td>\n",
              "      <td>0.1444</td>\n",
              "      <td>0.4245</td>\n",
              "      <td>0.4504</td>\n",
              "      <td>0.2430</td>\n",
              "      <td>0.3613</td>\n",
              "      <td>0.08758</td>\n",
              "      <td>NaN</td>\n",
              "    </tr>\n",
              "    <tr>\n",
              "      <th>3</th>\n",
              "      <td>84348301</td>\n",
              "      <td>1</td>\n",
              "      <td>11.42</td>\n",
              "      <td>20.38</td>\n",
              "      <td>77.58</td>\n",
              "      <td>386.1</td>\n",
              "      <td>0.14250</td>\n",
              "      <td>0.28390</td>\n",
              "      <td>0.2414</td>\n",
              "      <td>0.10520</td>\n",
              "      <td>0.2597</td>\n",
              "      <td>0.09744</td>\n",
              "      <td>0.4956</td>\n",
              "      <td>1.1560</td>\n",
              "      <td>3.445</td>\n",
              "      <td>27.23</td>\n",
              "      <td>0.009110</td>\n",
              "      <td>0.07458</td>\n",
              "      <td>0.05661</td>\n",
              "      <td>0.01867</td>\n",
              "      <td>0.05963</td>\n",
              "      <td>0.009208</td>\n",
              "      <td>14.91</td>\n",
              "      <td>26.50</td>\n",
              "      <td>98.87</td>\n",
              "      <td>567.7</td>\n",
              "      <td>0.2098</td>\n",
              "      <td>0.8663</td>\n",
              "      <td>0.6869</td>\n",
              "      <td>0.2575</td>\n",
              "      <td>0.6638</td>\n",
              "      <td>0.17300</td>\n",
              "      <td>NaN</td>\n",
              "    </tr>\n",
              "    <tr>\n",
              "      <th>4</th>\n",
              "      <td>84358402</td>\n",
              "      <td>1</td>\n",
              "      <td>20.29</td>\n",
              "      <td>14.34</td>\n",
              "      <td>135.10</td>\n",
              "      <td>1297.0</td>\n",
              "      <td>0.10030</td>\n",
              "      <td>0.13280</td>\n",
              "      <td>0.1980</td>\n",
              "      <td>0.10430</td>\n",
              "      <td>0.1809</td>\n",
              "      <td>0.05883</td>\n",
              "      <td>0.7572</td>\n",
              "      <td>0.7813</td>\n",
              "      <td>5.438</td>\n",
              "      <td>94.44</td>\n",
              "      <td>0.011490</td>\n",
              "      <td>0.02461</td>\n",
              "      <td>0.05688</td>\n",
              "      <td>0.01885</td>\n",
              "      <td>0.01756</td>\n",
              "      <td>0.005115</td>\n",
              "      <td>22.54</td>\n",
              "      <td>16.67</td>\n",
              "      <td>152.20</td>\n",
              "      <td>1575.0</td>\n",
              "      <td>0.1374</td>\n",
              "      <td>0.2050</td>\n",
              "      <td>0.4000</td>\n",
              "      <td>0.1625</td>\n",
              "      <td>0.2364</td>\n",
              "      <td>0.07678</td>\n",
              "      <td>NaN</td>\n",
              "    </tr>\n",
              "  </tbody>\n",
              "</table>\n",
              "</div>"
            ],
            "text/plain": [
              "         id  diagnosis  ...  fractal_dimension_worst  Unnamed: 32\n",
              "0    842302          1  ...                  0.11890          NaN\n",
              "1    842517          1  ...                  0.08902          NaN\n",
              "2  84300903          1  ...                  0.08758          NaN\n",
              "3  84348301          1  ...                  0.17300          NaN\n",
              "4  84358402          1  ...                  0.07678          NaN\n",
              "\n",
              "[5 rows x 33 columns]"
            ]
          },
          "metadata": {
            "tags": []
          },
          "execution_count": 10
        }
      ]
    },
    {
      "cell_type": "code",
      "metadata": {
        "id": "UJA07StUGkfb",
        "colab_type": "code",
        "colab": {
          "base_uri": "https://localhost:8080/",
          "height": 296
        },
        "outputId": "e1e14b12-24f8-4c4f-a486-5ef4aad983a7"
      },
      "source": [
        "sn.countplot(cancer_df['diagnosis'])"
      ],
      "execution_count": 11,
      "outputs": [
        {
          "output_type": "execute_result",
          "data": {
            "text/plain": [
              "<matplotlib.axes._subplots.AxesSubplot at 0x7f477dfb64e0>"
            ]
          },
          "metadata": {
            "tags": []
          },
          "execution_count": 11
        },
        {
          "output_type": "display_data",
          "data": {
            "image/png": "[encoded data removed]",
            "text/plain": [
              "<Figure size 432x288 with 1 Axes>"
            ]
          },
          "metadata": {
            "tags": [],
            "needs_background": "light"
          }
        }
      ]
    },
    {
      "cell_type": "code",
      "metadata": {
        "id": "Yds5avMxHBWe",
        "colab_type": "code",
        "colab": {}
      },
      "source": [
        "Y = cancer_df['diagnosis']\n"
      ],
      "execution_count": 12,
      "outputs": []
    },
    {
      "cell_type": "code",
      "metadata": {
        "id": "zZvrpiKQHBlh",
        "colab_type": "code",
        "colab": {}
      },
      "source": [
        "X = cancer_df.drop(['diagnosis', 'id', 'Unnamed: 32'], axis=1)\n"
      ],
      "execution_count": 13,
      "outputs": []
    },
    {
      "cell_type": "code",
      "metadata": {
        "id": "GsYcEsDvHBgP",
        "colab_type": "code",
        "colab": {}
      },
      "source": [
        "\n",
        "benign = 220\n",
        "malignant = 212\n",
        "pipe = make_pipeline(\n",
        "    NearMiss(sampling_strategy={0: benign}))"
      ],
      "execution_count": 14,
      "outputs": []
    },
    {
      "cell_type": "code",
      "metadata": {
        "id": "Lfj4K3cFQgJ5",
        "colab_type": "code",
        "colab": {
          "base_uri": "https://localhost:8080/",
          "height": 138
        },
        "outputId": "bf473393-ff5c-428f-ecee-26399ad6562d"
      },
      "source": [
        " X, Y = pipe.fit_resample(X,Y)"
      ],
      "execution_count": 15,
      "outputs": [
        {
          "output_type": "stream",
          "text": [
            "/usr/local/lib/python3.6/dist-packages/sklearn/utils/deprecation.py:87: FutureWarning: Function safe_indexing is deprecated; safe_indexing is deprecated in version 0.22 and will be removed in version 0.24.\n",
            "  warnings.warn(msg, category=FutureWarning)\n",
            "/usr/local/lib/python3.6/dist-packages/sklearn/utils/deprecation.py:87: FutureWarning: Function safe_indexing is deprecated; safe_indexing is deprecated in version 0.22 and will be removed in version 0.24.\n",
            "  warnings.warn(msg, category=FutureWarning)\n",
            "/usr/local/lib/python3.6/dist-packages/sklearn/utils/deprecation.py:87: FutureWarning: Function safe_indexing is deprecated; safe_indexing is deprecated in version 0.22 and will be removed in version 0.24.\n",
            "  warnings.warn(msg, category=FutureWarning)\n"
          ],
          "name": "stderr"
        }
      ]
    },
    {
      "cell_type": "code",
      "metadata": {
        "id": "D17jLBRZ3ogU",
        "colab_type": "code",
        "colab": {
          "base_uri": "https://localhost:8080/",
          "height": 282
        },
        "outputId": "a648b702-3b9c-4db4-dc2e-e1d519e3bf4e"
      },
      "source": [
        "sn.countplot(Y)"
      ],
      "execution_count": 16,
      "outputs": [
        {
          "output_type": "execute_result",
          "data": {
            "text/plain": [
              "<matplotlib.axes._subplots.AxesSubplot at 0x7f477dee2208>"
            ]
          },
          "metadata": {
            "tags": []
          },
          "execution_count": 16
        },
        {
          "output_type": "display_data",
          "data": {
            "image/png": "[encoded data removed]",
            "text/plain": [
              "<Figure size 432x288 with 1 Axes>"
            ]
          },
          "metadata": {
            "tags": [],
            "needs_background": "light"
          }
        }
      ]
    },
    {
      "cell_type": "code",
      "metadata": {
        "id": "GjWa9NRg4ZUK",
        "colab_type": "code",
        "colab": {}
      },
      "source": [
        "# Splitting the dataset into the Training set and Test set\n",
        "test_X, train_X, test_Y, train_Y = train_test_split(X, Y, test_size = 0.2, random_state = 42)"
      ],
      "execution_count": 17,
      "outputs": []
    },
    {
      "cell_type": "code",
      "metadata": {
        "id": "Vdkc7ZF84ZmN",
        "colab_type": "code",
        "colab": {}
      },
      "source": [
        "# Feature Scaling\n",
        "sc = StandardScaler()\n",
        "train_X = sc.fit_transform(train_X)\n",
        "test_X = sc.fit_transform(test_X)"
      ],
      "execution_count": 18,
      "outputs": []
    },
    {
      "cell_type": "code",
      "metadata": {
        "id": "m0wmQogeQP1V",
        "colab_type": "code",
        "colab": {
          "base_uri": "https://localhost:8080/",
          "height": 1000
        },
        "outputId": "9a6ffc13-d8b5-43d7-adc3-1d1c041921f0"
      },
      "source": [
        "# Initialising the ANN\n",
        "model = Sequential()\n",
        "model.add(Dense(units=6, activation='relu', kernel_initializer='he_uniform',  input_dim = 30))\n",
        "model.add(Dropout(0.1))\n",
        "model.add(Dense(units=6, activation='relu', kernel_initializer='he_uniform'))\n",
        "model.add(Dense(units=3, activation='relu',  kernel_initializer='he_uniform'))\n",
        "model.add(Dense(units=1, activation='sigmoid', kernel_initializer= 'glorot_uniform'))\n",
        "model.compile(optimizer = 'Adamax', loss = 'binary_crossentropy', metrics = ['accuracy'])\n",
        "model_history = model.fit(train_X, train_Y,  batch_size = 100, epochs= 150, validation_split = 0.33) "
      ],
      "execution_count": 19,
      "outputs": [
        {
          "output_type": "stream",
          "text": [
            "Epoch 1/150\n",
            "1/1 [==============================] - 0s 156ms/step - loss: 0.9862 - accuracy: 0.4828 - val_loss: 0.6991 - val_accuracy: 0.4828\n",
            "Epoch 2/150\n",
            "1/1 [==============================] - 0s 17ms/step - loss: 0.9472 - accuracy: 0.5345 - val_loss: 0.6912 - val_accuracy: 0.5172\n",
            "Epoch 3/150\n",
            "1/1 [==============================] - 0s 17ms/step - loss: 0.9912 - accuracy: 0.5690 - val_loss: 0.6840 - val_accuracy: 0.5172\n",
            "Epoch 4/150\n",
            "1/1 [==============================] - 0s 16ms/step - loss: 0.9581 - accuracy: 0.5517 - val_loss: 0.6775 - val_accuracy: 0.5172\n",
            "Epoch 5/150\n",
            "1/1 [==============================] - 0s 19ms/step - loss: 0.9584 - accuracy: 0.5345 - val_loss: 0.6712 - val_accuracy: 0.5517\n",
            "Epoch 6/150\n",
            "1/1 [==============================] - 0s 21ms/step - loss: 0.9316 - accuracy: 0.5690 - val_loss: 0.6640 - val_accuracy: 0.5517\n",
            "Epoch 7/150\n",
            "1/1 [==============================] - 0s 18ms/step - loss: 0.9152 - accuracy: 0.5690 - val_loss: 0.6568 - val_accuracy: 0.5517\n",
            "Epoch 8/150\n",
            "1/1 [==============================] - 0s 16ms/step - loss: 0.9178 - accuracy: 0.5690 - val_loss: 0.6495 - val_accuracy: 0.5862\n",
            "Epoch 9/150\n",
            "1/1 [==============================] - 0s 16ms/step - loss: 0.8824 - accuracy: 0.5000 - val_loss: 0.6427 - val_accuracy: 0.5862\n",
            "Epoch 10/150\n",
            "1/1 [==============================] - 0s 17ms/step - loss: 0.8332 - accuracy: 0.5690 - val_loss: 0.6357 - val_accuracy: 0.5862\n",
            "Epoch 11/150\n",
            "1/1 [==============================] - 0s 16ms/step - loss: 0.9254 - accuracy: 0.5862 - val_loss: 0.6294 - val_accuracy: 0.5862\n",
            "Epoch 12/150\n",
            "1/1 [==============================] - 0s 17ms/step - loss: 0.8150 - accuracy: 0.5862 - val_loss: 0.6238 - val_accuracy: 0.6207\n",
            "Epoch 13/150\n",
            "1/1 [==============================] - 0s 24ms/step - loss: 0.8384 - accuracy: 0.6034 - val_loss: 0.6183 - val_accuracy: 0.6207\n",
            "Epoch 14/150\n",
            "1/1 [==============================] - 0s 22ms/step - loss: 0.8116 - accuracy: 0.6207 - val_loss: 0.6126 - val_accuracy: 0.6552\n",
            "Epoch 15/150\n",
            "1/1 [==============================] - 0s 17ms/step - loss: 0.8299 - accuracy: 0.5690 - val_loss: 0.6070 - val_accuracy: 0.6552\n",
            "Epoch 16/150\n",
            "1/1 [==============================] - 0s 17ms/step - loss: 0.8047 - accuracy: 0.6207 - val_loss: 0.6014 - val_accuracy: 0.6552\n",
            "Epoch 17/150\n",
            "1/1 [==============================] - 0s 23ms/step - loss: 0.7895 - accuracy: 0.6379 - val_loss: 0.5961 - val_accuracy: 0.6552\n",
            "Epoch 18/150\n",
            "1/1 [==============================] - 0s 22ms/step - loss: 0.7999 - accuracy: 0.6034 - val_loss: 0.5910 - val_accuracy: 0.6552\n",
            "Epoch 19/150\n",
            "1/1 [==============================] - 0s 18ms/step - loss: 0.7728 - accuracy: 0.6034 - val_loss: 0.5860 - val_accuracy: 0.6552\n",
            "Epoch 20/150\n",
            "1/1 [==============================] - 0s 16ms/step - loss: 0.7514 - accuracy: 0.6552 - val_loss: 0.5811 - val_accuracy: 0.6552\n",
            "Epoch 21/150\n",
            "1/1 [==============================] - 0s 17ms/step - loss: 0.7494 - accuracy: 0.6552 - val_loss: 0.5765 - val_accuracy: 0.6897\n",
            "Epoch 22/150\n",
            "1/1 [==============================] - 0s 16ms/step - loss: 0.7479 - accuracy: 0.6379 - val_loss: 0.5721 - val_accuracy: 0.6897\n",
            "Epoch 23/150\n",
            "1/1 [==============================] - 0s 18ms/step - loss: 0.7222 - accuracy: 0.5862 - val_loss: 0.5680 - val_accuracy: 0.7241\n",
            "Epoch 24/150\n",
            "1/1 [==============================] - 0s 17ms/step - loss: 0.6993 - accuracy: 0.6034 - val_loss: 0.5644 - val_accuracy: 0.7241\n",
            "Epoch 25/150\n",
            "1/1 [==============================] - 0s 16ms/step - loss: 0.7255 - accuracy: 0.5862 - val_loss: 0.5609 - val_accuracy: 0.7241\n",
            "Epoch 26/150\n",
            "1/1 [==============================] - 0s 17ms/step - loss: 0.7525 - accuracy: 0.6207 - val_loss: 0.5579 - val_accuracy: 0.7241\n",
            "Epoch 27/150\n",
            "1/1 [==============================] - 0s 17ms/step - loss: 0.7553 - accuracy: 0.6552 - val_loss: 0.5549 - val_accuracy: 0.7241\n",
            "Epoch 28/150\n",
            "1/1 [==============================] - 0s 17ms/step - loss: 0.6533 - accuracy: 0.6897 - val_loss: 0.5519 - val_accuracy: 0.7241\n",
            "Epoch 29/150\n",
            "1/1 [==============================] - 0s 17ms/step - loss: 0.7040 - accuracy: 0.6379 - val_loss: 0.5489 - val_accuracy: 0.7241\n",
            "Epoch 30/150\n",
            "1/1 [==============================] - 0s 18ms/step - loss: 0.7225 - accuracy: 0.6552 - val_loss: 0.5461 - val_accuracy: 0.7241\n",
            "Epoch 31/150\n",
            "1/1 [==============================] - 0s 17ms/step - loss: 0.6978 - accuracy: 0.7241 - val_loss: 0.5429 - val_accuracy: 0.7586\n",
            "Epoch 32/150\n",
            "1/1 [==============================] - 0s 16ms/step - loss: 0.7004 - accuracy: 0.6897 - val_loss: 0.5397 - val_accuracy: 0.7931\n",
            "Epoch 33/150\n",
            "1/1 [==============================] - 0s 17ms/step - loss: 0.6910 - accuracy: 0.7241 - val_loss: 0.5368 - val_accuracy: 0.7931\n",
            "Epoch 34/150\n",
            "1/1 [==============================] - 0s 20ms/step - loss: 0.6911 - accuracy: 0.7069 - val_loss: 0.5340 - val_accuracy: 0.8276\n",
            "Epoch 35/150\n",
            "1/1 [==============================] - 0s 19ms/step - loss: 0.6559 - accuracy: 0.6897 - val_loss: 0.5313 - val_accuracy: 0.8276\n",
            "Epoch 36/150\n",
            "1/1 [==============================] - 0s 21ms/step - loss: 0.6402 - accuracy: 0.7414 - val_loss: 0.5285 - val_accuracy: 0.8276\n",
            "Epoch 37/150\n",
            "1/1 [==============================] - 0s 16ms/step - loss: 0.6747 - accuracy: 0.7586 - val_loss: 0.5256 - val_accuracy: 0.8276\n",
            "Epoch 38/150\n",
            "1/1 [==============================] - 0s 16ms/step - loss: 0.5857 - accuracy: 0.7759 - val_loss: 0.5226 - val_accuracy: 0.8276\n",
            "Epoch 39/150\n",
            "1/1 [==============================] - 0s 17ms/step - loss: 0.6309 - accuracy: 0.7759 - val_loss: 0.5197 - val_accuracy: 0.8276\n",
            "Epoch 40/150\n",
            "1/1 [==============================] - 0s 17ms/step - loss: 0.6288 - accuracy: 0.7759 - val_loss: 0.5168 - val_accuracy: 0.8276\n",
            "Epoch 41/150\n",
            "1/1 [==============================] - 0s 18ms/step - loss: 0.6293 - accuracy: 0.7759 - val_loss: 0.5141 - val_accuracy: 0.8276\n",
            "Epoch 42/150\n",
            "1/1 [==============================] - 0s 17ms/step - loss: 0.6768 - accuracy: 0.7069 - val_loss: 0.5111 - val_accuracy: 0.8276\n",
            "Epoch 43/150\n",
            "1/1 [==============================] - 0s 17ms/step - loss: 0.6454 - accuracy: 0.7759 - val_loss: 0.5076 - val_accuracy: 0.8276\n",
            "Epoch 44/150\n",
            "1/1 [==============================] - 0s 17ms/step - loss: 0.6718 - accuracy: 0.7414 - val_loss: 0.5041 - val_accuracy: 0.8621\n",
            "Epoch 45/150\n",
            "1/1 [==============================] - 0s 17ms/step - loss: 0.6066 - accuracy: 0.8103 - val_loss: 0.5006 - val_accuracy: 0.8621\n",
            "Epoch 46/150\n",
            "1/1 [==============================] - 0s 16ms/step - loss: 0.5845 - accuracy: 0.7759 - val_loss: 0.4972 - val_accuracy: 0.8621\n",
            "Epoch 47/150\n",
            "1/1 [==============================] - 0s 16ms/step - loss: 0.5947 - accuracy: 0.7414 - val_loss: 0.4937 - val_accuracy: 0.8621\n",
            "Epoch 48/150\n",
            "1/1 [==============================] - 0s 17ms/step - loss: 0.6190 - accuracy: 0.7759 - val_loss: 0.4904 - val_accuracy: 0.8621\n",
            "Epoch 49/150\n",
            "1/1 [==============================] - 0s 16ms/step - loss: 0.6275 - accuracy: 0.7931 - val_loss: 0.4871 - val_accuracy: 0.8621\n",
            "Epoch 50/150\n",
            "1/1 [==============================] - 0s 17ms/step - loss: 0.6351 - accuracy: 0.7931 - val_loss: 0.4839 - val_accuracy: 0.8621\n",
            "Epoch 51/150\n",
            "1/1 [==============================] - 0s 17ms/step - loss: 0.5827 - accuracy: 0.8276 - val_loss: 0.4810 - val_accuracy: 0.8621\n",
            "Epoch 52/150\n",
            "1/1 [==============================] - 0s 17ms/step - loss: 0.6082 - accuracy: 0.8103 - val_loss: 0.4783 - val_accuracy: 0.8621\n",
            "Epoch 53/150\n",
            "1/1 [==============================] - 0s 18ms/step - loss: 0.5867 - accuracy: 0.8276 - val_loss: 0.4756 - val_accuracy: 0.8621\n",
            "Epoch 54/150\n",
            "1/1 [==============================] - 0s 16ms/step - loss: 0.5851 - accuracy: 0.8103 - val_loss: 0.4731 - val_accuracy: 0.8621\n",
            "Epoch 55/150\n",
            "1/1 [==============================] - 0s 17ms/step - loss: 0.5539 - accuracy: 0.8448 - val_loss: 0.4706 - val_accuracy: 0.8621\n",
            "Epoch 56/150\n",
            "1/1 [==============================] - 0s 17ms/step - loss: 0.5912 - accuracy: 0.8276 - val_loss: 0.4681 - val_accuracy: 0.8621\n",
            "Epoch 57/150\n",
            "1/1 [==============================] - 0s 17ms/step - loss: 0.6012 - accuracy: 0.8276 - val_loss: 0.4658 - val_accuracy: 0.8276\n",
            "Epoch 58/150\n",
            "1/1 [==============================] - 0s 20ms/step - loss: 0.5977 - accuracy: 0.7931 - val_loss: 0.4635 - val_accuracy: 0.8276\n",
            "Epoch 59/150\n",
            "1/1 [==============================] - 0s 17ms/step - loss: 0.5545 - accuracy: 0.8621 - val_loss: 0.4612 - val_accuracy: 0.8276\n",
            "Epoch 60/150\n",
            "1/1 [==============================] - 0s 17ms/step - loss: 0.5485 - accuracy: 0.8793 - val_loss: 0.4590 - val_accuracy: 0.8276\n",
            "Epoch 61/150\n",
            "1/1 [==============================] - 0s 20ms/step - loss: 0.5645 - accuracy: 0.8448 - val_loss: 0.4568 - val_accuracy: 0.8276\n",
            "Epoch 62/150\n",
            "1/1 [==============================] - 0s 19ms/step - loss: 0.5535 - accuracy: 0.8276 - val_loss: 0.4546 - val_accuracy: 0.8276\n",
            "Epoch 63/150\n",
            "1/1 [==============================] - 0s 18ms/step - loss: 0.5778 - accuracy: 0.8448 - val_loss: 0.4524 - val_accuracy: 0.8276\n",
            "Epoch 64/150\n",
            "1/1 [==============================] - 0s 18ms/step - loss: 0.5998 - accuracy: 0.8103 - val_loss: 0.4501 - val_accuracy: 0.8276\n",
            "Epoch 65/150\n",
            "1/1 [==============================] - 0s 19ms/step - loss: 0.5568 - accuracy: 0.8448 - val_loss: 0.4480 - val_accuracy: 0.8276\n",
            "Epoch 66/150\n",
            "1/1 [==============================] - 0s 19ms/step - loss: 0.5680 - accuracy: 0.8276 - val_loss: 0.4459 - val_accuracy: 0.8276\n",
            "Epoch 67/150\n",
            "1/1 [==============================] - 0s 16ms/step - loss: 0.5762 - accuracy: 0.8276 - val_loss: 0.4438 - val_accuracy: 0.8276\n",
            "Epoch 68/150\n",
            "1/1 [==============================] - 0s 19ms/step - loss: 0.6044 - accuracy: 0.7931 - val_loss: 0.4418 - val_accuracy: 0.8276\n",
            "Epoch 69/150\n",
            "1/1 [==============================] - 0s 15ms/step - loss: 0.5586 - accuracy: 0.7931 - val_loss: 0.4398 - val_accuracy: 0.8276\n",
            "Epoch 70/150\n",
            "1/1 [==============================] - 0s 18ms/step - loss: 0.5377 - accuracy: 0.8276 - val_loss: 0.4378 - val_accuracy: 0.8276\n",
            "Epoch 71/150\n",
            "1/1 [==============================] - 0s 15ms/step - loss: 0.5610 - accuracy: 0.7931 - val_loss: 0.4359 - val_accuracy: 0.8276\n",
            "Epoch 72/150\n",
            "1/1 [==============================] - 0s 15ms/step - loss: 0.5450 - accuracy: 0.8448 - val_loss: 0.4340 - val_accuracy: 0.8276\n",
            "Epoch 73/150\n",
            "1/1 [==============================] - 0s 16ms/step - loss: 0.5422 - accuracy: 0.8276 - val_loss: 0.4321 - val_accuracy: 0.8276\n",
            "Epoch 74/150\n",
            "1/1 [==============================] - 0s 15ms/step - loss: 0.5261 - accuracy: 0.8276 - val_loss: 0.4303 - val_accuracy: 0.8276\n",
            "Epoch 75/150\n",
            "1/1 [==============================] - 0s 17ms/step - loss: 0.5462 - accuracy: 0.8276 - val_loss: 0.4285 - val_accuracy: 0.8276\n",
            "Epoch 76/150\n",
            "1/1 [==============================] - 0s 21ms/step - loss: 0.5421 - accuracy: 0.7931 - val_loss: 0.4268 - val_accuracy: 0.8276\n",
            "Epoch 77/150\n",
            "1/1 [==============================] - 0s 20ms/step - loss: 0.5377 - accuracy: 0.8621 - val_loss: 0.4251 - val_accuracy: 0.8276\n",
            "Epoch 78/150\n",
            "1/1 [==============================] - 0s 21ms/step - loss: 0.5483 - accuracy: 0.8103 - val_loss: 0.4234 - val_accuracy: 0.8276\n",
            "Epoch 79/150\n",
            "1/1 [==============================] - 0s 19ms/step - loss: 0.5264 - accuracy: 0.8276 - val_loss: 0.4218 - val_accuracy: 0.8276\n",
            "Epoch 80/150\n",
            "1/1 [==============================] - 0s 18ms/step - loss: 0.5324 - accuracy: 0.8448 - val_loss: 0.4201 - val_accuracy: 0.8276\n",
            "Epoch 81/150\n",
            "1/1 [==============================] - 0s 18ms/step - loss: 0.5431 - accuracy: 0.8448 - val_loss: 0.4185 - val_accuracy: 0.8276\n",
            "Epoch 82/150\n",
            "1/1 [==============================] - 0s 17ms/step - loss: 0.5023 - accuracy: 0.8621 - val_loss: 0.4169 - val_accuracy: 0.8276\n",
            "Epoch 83/150\n",
            "1/1 [==============================] - 0s 18ms/step - loss: 0.5419 - accuracy: 0.8621 - val_loss: 0.4153 - val_accuracy: 0.8276\n",
            "Epoch 84/150\n",
            "1/1 [==============================] - 0s 25ms/step - loss: 0.5048 - accuracy: 0.8621 - val_loss: 0.4138 - val_accuracy: 0.8276\n",
            "Epoch 85/150\n",
            "1/1 [==============================] - 0s 17ms/step - loss: 0.5286 - accuracy: 0.8621 - val_loss: 0.4123 - val_accuracy: 0.8276\n",
            "Epoch 86/150\n",
            "1/1 [==============================] - 0s 15ms/step - loss: 0.4903 - accuracy: 0.8793 - val_loss: 0.4108 - val_accuracy: 0.8276\n",
            "Epoch 87/150\n",
            "1/1 [==============================] - 0s 15ms/step - loss: 0.5144 - accuracy: 0.8448 - val_loss: 0.4094 - val_accuracy: 0.8276\n",
            "Epoch 88/150\n",
            "1/1 [==============================] - 0s 16ms/step - loss: 0.5228 - accuracy: 0.8621 - val_loss: 0.4080 - val_accuracy: 0.8276\n",
            "Epoch 89/150\n",
            "1/1 [==============================] - 0s 17ms/step - loss: 0.5265 - accuracy: 0.8448 - val_loss: 0.4067 - val_accuracy: 0.8276\n",
            "Epoch 90/150\n",
            "1/1 [==============================] - 0s 17ms/step - loss: 0.5435 - accuracy: 0.8276 - val_loss: 0.4055 - val_accuracy: 0.8276\n",
            "Epoch 91/150\n",
            "1/1 [==============================] - 0s 18ms/step - loss: 0.5064 - accuracy: 0.8621 - val_loss: 0.4042 - val_accuracy: 0.8276\n",
            "Epoch 92/150\n",
            "1/1 [==============================] - 0s 17ms/step - loss: 0.5282 - accuracy: 0.8621 - val_loss: 0.4030 - val_accuracy: 0.8276\n",
            "Epoch 93/150\n",
            "1/1 [==============================] - 0s 17ms/step - loss: 0.5328 - accuracy: 0.8793 - val_loss: 0.4018 - val_accuracy: 0.8276\n",
            "Epoch 94/150\n",
            "1/1 [==============================] - 0s 17ms/step - loss: 0.4997 - accuracy: 0.8621 - val_loss: 0.4007 - val_accuracy: 0.8276\n",
            "Epoch 95/150\n",
            "1/1 [==============================] - 0s 17ms/step - loss: 0.5305 - accuracy: 0.8448 - val_loss: 0.3995 - val_accuracy: 0.8276\n",
            "Epoch 96/150\n",
            "1/1 [==============================] - 0s 17ms/step - loss: 0.5003 - accuracy: 0.8793 - val_loss: 0.3984 - val_accuracy: 0.8276\n",
            "Epoch 97/150\n",
            "1/1 [==============================] - 0s 17ms/step - loss: 0.5145 - accuracy: 0.8621 - val_loss: 0.3972 - val_accuracy: 0.8276\n",
            "Epoch 98/150\n",
            "1/1 [==============================] - 0s 17ms/step - loss: 0.5177 - accuracy: 0.8448 - val_loss: 0.3961 - val_accuracy: 0.8276\n",
            "Epoch 99/150\n",
            "1/1 [==============================] - 0s 17ms/step - loss: 0.5111 - accuracy: 0.8448 - val_loss: 0.3950 - val_accuracy: 0.8276\n",
            "Epoch 100/150\n",
            "1/1 [==============================] - 0s 16ms/step - loss: 0.5246 - accuracy: 0.8448 - val_loss: 0.3939 - val_accuracy: 0.8276\n",
            "Epoch 101/150\n",
            "1/1 [==============================] - 0s 19ms/step - loss: 0.5126 - accuracy: 0.8448 - val_loss: 0.3928 - val_accuracy: 0.8276\n",
            "Epoch 102/150\n",
            "1/1 [==============================] - 0s 17ms/step - loss: 0.4670 - accuracy: 0.8966 - val_loss: 0.3918 - val_accuracy: 0.8276\n",
            "Epoch 103/150\n",
            "1/1 [==============================] - 0s 18ms/step - loss: 0.5112 - accuracy: 0.8621 - val_loss: 0.3907 - val_accuracy: 0.8276\n",
            "Epoch 104/150\n",
            "1/1 [==============================] - 0s 25ms/step - loss: 0.5069 - accuracy: 0.8621 - val_loss: 0.3897 - val_accuracy: 0.8276\n",
            "Epoch 105/150\n",
            "1/1 [==============================] - 0s 21ms/step - loss: 0.4842 - accuracy: 0.8448 - val_loss: 0.3886 - val_accuracy: 0.8276\n",
            "Epoch 106/150\n",
            "1/1 [==============================] - 0s 18ms/step - loss: 0.4746 - accuracy: 0.8793 - val_loss: 0.3876 - val_accuracy: 0.8276\n",
            "Epoch 107/150\n",
            "1/1 [==============================] - 0s 18ms/step - loss: 0.5033 - accuracy: 0.8793 - val_loss: 0.3865 - val_accuracy: 0.8276\n",
            "Epoch 108/150\n",
            "1/1 [==============================] - 0s 16ms/step - loss: 0.4866 - accuracy: 0.8793 - val_loss: 0.3855 - val_accuracy: 0.8276\n",
            "Epoch 109/150\n",
            "1/1 [==============================] - 0s 16ms/step - loss: 0.4817 - accuracy: 0.8793 - val_loss: 0.3845 - val_accuracy: 0.8276\n",
            "Epoch 110/150\n",
            "1/1 [==============================] - 0s 17ms/step - loss: 0.5175 - accuracy: 0.8621 - val_loss: 0.3835 - val_accuracy: 0.8276\n",
            "Epoch 111/150\n",
            "1/1 [==============================] - 0s 17ms/step - loss: 0.4866 - accuracy: 0.8793 - val_loss: 0.3826 - val_accuracy: 0.8276\n",
            "Epoch 112/150\n",
            "1/1 [==============================] - 0s 16ms/step - loss: 0.4851 - accuracy: 0.8793 - val_loss: 0.3816 - val_accuracy: 0.8621\n",
            "Epoch 113/150\n",
            "1/1 [==============================] - 0s 18ms/step - loss: 0.4736 - accuracy: 0.9138 - val_loss: 0.3807 - val_accuracy: 0.8621\n",
            "Epoch 114/150\n",
            "1/1 [==============================] - 0s 18ms/step - loss: 0.4865 - accuracy: 0.8793 - val_loss: 0.3798 - val_accuracy: 0.8621\n",
            "Epoch 115/150\n",
            "1/1 [==============================] - 0s 17ms/step - loss: 0.4853 - accuracy: 0.8966 - val_loss: 0.3789 - val_accuracy: 0.8621\n",
            "Epoch 116/150\n",
            "1/1 [==============================] - 0s 18ms/step - loss: 0.4808 - accuracy: 0.8621 - val_loss: 0.3780 - val_accuracy: 0.8621\n",
            "Epoch 117/150\n",
            "1/1 [==============================] - 0s 18ms/step - loss: 0.4543 - accuracy: 0.9138 - val_loss: 0.3770 - val_accuracy: 0.8621\n",
            "Epoch 118/150\n",
            "1/1 [==============================] - 0s 17ms/step - loss: 0.4919 - accuracy: 0.8793 - val_loss: 0.3761 - val_accuracy: 0.8621\n",
            "Epoch 119/150\n",
            "1/1 [==============================] - 0s 16ms/step - loss: 0.4594 - accuracy: 0.8966 - val_loss: 0.3752 - val_accuracy: 0.8966\n",
            "Epoch 120/150\n",
            "1/1 [==============================] - 0s 16ms/step - loss: 0.4624 - accuracy: 0.8966 - val_loss: 0.3744 - val_accuracy: 0.8966\n",
            "Epoch 121/150\n",
            "1/1 [==============================] - 0s 17ms/step - loss: 0.4744 - accuracy: 0.8793 - val_loss: 0.3735 - val_accuracy: 0.8966\n",
            "Epoch 122/150\n",
            "1/1 [==============================] - 0s 17ms/step - loss: 0.4725 - accuracy: 0.8793 - val_loss: 0.3726 - val_accuracy: 0.8966\n",
            "Epoch 123/150\n",
            "1/1 [==============================] - 0s 15ms/step - loss: 0.4957 - accuracy: 0.8793 - val_loss: 0.3718 - val_accuracy: 0.8966\n",
            "Epoch 124/150\n",
            "1/1 [==============================] - 0s 17ms/step - loss: 0.5029 - accuracy: 0.8621 - val_loss: 0.3710 - val_accuracy: 0.8966\n",
            "Epoch 125/150\n",
            "1/1 [==============================] - 0s 17ms/step - loss: 0.4691 - accuracy: 0.8966 - val_loss: 0.3702 - val_accuracy: 0.8966\n",
            "Epoch 126/150\n",
            "1/1 [==============================] - 0s 17ms/step - loss: 0.4687 - accuracy: 0.8966 - val_loss: 0.3694 - val_accuracy: 0.8966\n",
            "Epoch 127/150\n",
            "1/1 [==============================] - 0s 17ms/step - loss: 0.4771 - accuracy: 0.8793 - val_loss: 0.3686 - val_accuracy: 0.8966\n",
            "Epoch 128/150\n",
            "1/1 [==============================] - 0s 17ms/step - loss: 0.4756 - accuracy: 0.8793 - val_loss: 0.3678 - val_accuracy: 0.8966\n",
            "Epoch 129/150\n",
            "1/1 [==============================] - 0s 18ms/step - loss: 0.4846 - accuracy: 0.8621 - val_loss: 0.3670 - val_accuracy: 0.8966\n",
            "Epoch 130/150\n",
            "1/1 [==============================] - 0s 16ms/step - loss: 0.4676 - accuracy: 0.8966 - val_loss: 0.3662 - val_accuracy: 0.8966\n",
            "Epoch 131/150\n",
            "1/1 [==============================] - 0s 16ms/step - loss: 0.4602 - accuracy: 0.9138 - val_loss: 0.3654 - val_accuracy: 0.8966\n",
            "Epoch 132/150\n",
            "1/1 [==============================] - 0s 16ms/step - loss: 0.4955 - accuracy: 0.8966 - val_loss: 0.3647 - val_accuracy: 0.8966\n",
            "Epoch 133/150\n",
            "1/1 [==============================] - 0s 17ms/step - loss: 0.4505 - accuracy: 0.9310 - val_loss: 0.3639 - val_accuracy: 0.8966\n",
            "Epoch 134/150\n",
            "1/1 [==============================] - 0s 17ms/step - loss: 0.4906 - accuracy: 0.8793 - val_loss: 0.3631 - val_accuracy: 0.8966\n",
            "Epoch 135/150\n",
            "1/1 [==============================] - 0s 16ms/step - loss: 0.4769 - accuracy: 0.8966 - val_loss: 0.3624 - val_accuracy: 0.8966\n",
            "Epoch 136/150\n",
            "1/1 [==============================] - 0s 16ms/step - loss: 0.4967 - accuracy: 0.8276 - val_loss: 0.3616 - val_accuracy: 0.8966\n",
            "Epoch 137/150\n",
            "1/1 [==============================] - 0s 17ms/step - loss: 0.4456 - accuracy: 0.8966 - val_loss: 0.3609 - val_accuracy: 0.8966\n",
            "Epoch 138/150\n",
            "1/1 [==============================] - 0s 16ms/step - loss: 0.4534 - accuracy: 0.8966 - val_loss: 0.3602 - val_accuracy: 0.8966\n",
            "Epoch 139/150\n",
            "1/1 [==============================] - 0s 17ms/step - loss: 0.4597 - accuracy: 0.9138 - val_loss: 0.3594 - val_accuracy: 0.8966\n",
            "Epoch 140/150\n",
            "1/1 [==============================] - 0s 18ms/step - loss: 0.4532 - accuracy: 0.9138 - val_loss: 0.3587 - val_accuracy: 0.8966\n",
            "Epoch 141/150\n",
            "1/1 [==============================] - 0s 17ms/step - loss: 0.4658 - accuracy: 0.9138 - val_loss: 0.3580 - val_accuracy: 0.8966\n",
            "Epoch 142/150\n",
            "1/1 [==============================] - 0s 18ms/step - loss: 0.4515 - accuracy: 0.9138 - val_loss: 0.3573 - val_accuracy: 0.8966\n",
            "Epoch 143/150\n",
            "1/1 [==============================] - 0s 19ms/step - loss: 0.4528 - accuracy: 0.9138 - val_loss: 0.3566 - val_accuracy: 0.8966\n",
            "Epoch 144/150\n",
            "1/1 [==============================] - 0s 17ms/step - loss: 0.4323 - accuracy: 0.9138 - val_loss: 0.3559 - val_accuracy: 0.8966\n",
            "Epoch 145/150\n",
            "1/1 [==============================] - 0s 16ms/step - loss: 0.4271 - accuracy: 0.9138 - val_loss: 0.3552 - val_accuracy: 0.8966\n",
            "Epoch 146/150\n",
            "1/1 [==============================] - 0s 17ms/step - loss: 0.4546 - accuracy: 0.8966 - val_loss: 0.3545 - val_accuracy: 0.8966\n",
            "Epoch 147/150\n",
            "1/1 [==============================] - 0s 16ms/step - loss: 0.4468 - accuracy: 0.8793 - val_loss: 0.3538 - val_accuracy: 0.8966\n",
            "Epoch 148/150\n",
            "1/1 [==============================] - 0s 23ms/step - loss: 0.4509 - accuracy: 0.9138 - val_loss: 0.3531 - val_accuracy: 0.8966\n",
            "Epoch 149/150\n",
            "1/1 [==============================] - 0s 18ms/step - loss: 0.4575 - accuracy: 0.8966 - val_loss: 0.3524 - val_accuracy: 0.8966\n",
            "Epoch 150/150\n",
            "1/1 [==============================] - 0s 17ms/step - loss: 0.4535 - accuracy: 0.8793 - val_loss: 0.3517 - val_accuracy: 0.8966\n"
          ],
          "name": "stdout"
        }
      ]
    },
    {
      "cell_type": "code",
      "metadata": {
        "id": "QDVhpvno-O_5",
        "colab_type": "code",
        "colab": {
          "base_uri": "https://localhost:8080/",
          "height": 312
        },
        "outputId": "c9d13822-7c95-4f8e-cf6c-49890c3ec2d9"
      },
      "source": [
        "print(model_history.history.keys())\n",
        "# summarize history for accuracy\n",
        "plt.plot(model_history.history['accuracy'])\n",
        "plt.plot(model_history.history['val_accuracy'])\n",
        "plt.title('model accuracy')\n",
        "plt.ylabel('accuracy')\n",
        "plt.xlabel('epoch')\n",
        "plt.legend(['train', 'test'], loc='upper left')\n",
        "plt.show()"
      ],
      "execution_count": 20,
      "outputs": [
        {
          "output_type": "stream",
          "text": [
            "dict_keys(['loss', 'accuracy', 'val_loss', 'val_accuracy'])\n"
          ],
          "name": "stdout"
        },
        {
          "output_type": "display_data",
          "data": {
            "image/png": "[encoded data removed]",
            "text/plain": [
              "<Figure size 432x288 with 1 Axes>"
            ]
          },
          "metadata": {
            "tags": [],
            "needs_background": "light"
          }
        }
      ]
    },
    {
      "cell_type": "code",
      "metadata": {
        "id": "amRkqaUfTAee",
        "colab_type": "code",
        "colab": {
          "base_uri": "https://localhost:8080/",
          "height": 295
        },
        "outputId": "5d1e691e-5891-41eb-d733-fa37cc369d2c"
      },
      "source": [
        "plt.plot(model_history.history['loss'])\n",
        "plt.plot(model_history.history['val_loss'])\n",
        "plt.title('model loss')\n",
        "plt.ylabel('loss')\n",
        "plt.xlabel('epoch')\n",
        "plt.legend(['train', 'test'], loc='upper left')\n",
        "plt.show()"
      ],
      "execution_count": 21,
      "outputs": [
        {
          "output_type": "display_data",
          "data": {
            "image/png": "[encoded data removed]",
            "text/plain": [
              "<Figure size 432x288 with 1 Axes>"
            ]
          },
          "metadata": {
            "tags": [],
            "needs_background": "light"
          }
        }
      ]
    },
    {
      "cell_type": "code",
      "metadata": {
        "id": "HBFOfu-wTZw_",
        "colab_type": "code",
        "colab": {}
      },
      "source": [
        "y_pred = model.predict(test_X)\n",
        "y_pred = (y_pred > 0.5)"
      ],
      "execution_count": 22,
      "outputs": []
    },
    {
      "cell_type": "code",
      "metadata": {
        "id": "S2lvhd9iTP4C",
        "colab_type": "code",
        "colab": {
          "base_uri": "https://localhost:8080/",
          "height": 50
        },
        "outputId": "18c78fda-1365-48b1-f0c8-698c68ff7e47"
      },
      "source": [
        "# Making the Confusion Matrix\n",
        "from sklearn.metrics import confusion_matrix\n",
        "cm = confusion_matrix(test_Y, y_pred)\n",
        "print(cm)\n",
        "\n"
      ],
      "execution_count": 23,
      "outputs": [
        {
          "output_type": "stream",
          "text": [
            "[[164   8]\n",
            " [ 34 139]]\n"
          ],
          "name": "stdout"
        }
      ]
    },
    {
      "cell_type": "code",
      "metadata": {
        "id": "zDzTVo9pTQFn",
        "colab_type": "code",
        "colab": {
          "base_uri": "https://localhost:8080/",
          "height": 34
        },
        "outputId": "edaa393b-f11c-492c-9576-56c02796182e"
      },
      "source": [
        "# Calculate the Accuracy\n",
        "from sklearn.metrics import accuracy_score\n",
        "score=accuracy_score(y_pred,test_Y)\n",
        "print(score)"
      ],
      "execution_count": 24,
      "outputs": [
        {
          "output_type": "stream",
          "text": [
            "0.8782608695652174\n"
          ],
          "name": "stdout"
        }
      ]
    }
  ]
}